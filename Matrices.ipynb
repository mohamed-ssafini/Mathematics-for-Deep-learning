{
  "nbformat": 4,
  "nbformat_minor": 0,
  "metadata": {
    "colab": {
      "provenance": [],
      "authorship_tag": "ABX9TyP4oaZUNBf5smtumSe1IV4X",
      "include_colab_link": true
    },
    "kernelspec": {
      "name": "python3",
      "display_name": "Python 3"
    },
    "language_info": {
      "name": "python"
    }
  },
  "cells": [
    {
      "cell_type": "markdown",
      "metadata": {
        "id": "view-in-github",
        "colab_type": "text"
      },
      "source": [
        "<a href=\"https://colab.research.google.com/github/mohamed-ssafini/Mathematics-for-Deep-learning/blob/main/Matrices.ipynb\" target=\"_parent\"><img src=\"https://colab.research.google.com/assets/colab-badge.svg\" alt=\"Open In Colab\"/></a>"
      ]
    },
    {
      "cell_type": "markdown",
      "source": [
        "**Intro to Matrices, Tensors and Images**"
      ],
      "metadata": {
        "id": "Jh7a2c3Mg4Ie"
      }
    },
    {
      "cell_type": "code",
      "execution_count": 1,
      "metadata": {
        "id": "R4a4P7qTeafy"
      },
      "outputs": [],
      "source": [
        "import numpy as np\n",
        "import torch\n",
        "import cv2\n",
        "import matplotlib.pyplot as plt"
      ]
    },
    {
      "cell_type": "code",
      "source": [
        "# A matrix can be viewed as a 2-dimensional array of numbers.\n",
        "# It can be thought of as \n",
        "# a collection of row vectors, or a collection of column vectors.\n",
        "\n",
        "# For example, the training set for the cat-brain problem can be\n",
        "# expressed as a matrix.\n",
        "# Each input instance to the machine can be viewed as a vector\n",
        "# represented by a row in this matrix.\n",
        "# Our training set consists of 15 examples, where each example is\n",
        "#  a row vectorof size 2. So there are 15 rows and 2 columns.\n",
        "\n",
        "X = torch.tensor([[0.11, 0.09], [0.01, 0.02], [0.98, 0.91], [0.12, 0.21],\n",
        "              [0.98, 0.99], [0.85, 0.87], [0.03, 0.14], [0.55, 0.45],\n",
        "              [0.49, 0.51], [0.99, 0.01], [0.02, 0.89], [0.31, 0.47],\n",
        "              [0.55, 0.29], [0.87, 0.76], [0.63, 0.24]])"
      ],
      "metadata": {
        "id": "CRhtyno2hCz2"
      },
      "execution_count": 13,
      "outputs": []
    },
    {
      "cell_type": "code",
      "source": [
        "#Output threat score will be modeled as a vector\n",
        "y = torch.tensor([-0.8, -0.97, 0.89, -0.67, 0.97, 0.72, -0.83, 0.00, 0.00,\n",
        "              0.00, -0.09, -0.22, -0.16, 0.63, 0.37])"
      ],
      "metadata": {
        "id": "35N8IFRahKoD"
      },
      "execution_count": 3,
      "outputs": []
    },
    {
      "cell_type": "code",
      "source": [
        "# Shape of the matrix is depicted as a list.\n",
        "# The first list element represents the number of rows,\n",
        "# the second list element represents the number of columns.\n",
        "# Our training set consists of 15 examples, where each example is a\n",
        "#  row vector of size 2. So the shape is [15, 2].\n",
        "print(\"Shape of the matrix is: {}\".format(X.shape))"
      ],
      "metadata": {
        "colab": {
          "base_uri": "https://localhost:8080/"
        },
        "id": "ghfx5OSUhQLs",
        "outputId": "d73c0d70-40ac-492b-de33-e70fc162436b"
      },
      "execution_count": 4,
      "outputs": [
        {
          "output_type": "stream",
          "name": "stdout",
          "text": [
            "Shape of the matrix is: torch.Size([15, 2])\n"
          ]
        }
      ]
    },
    {
      "cell_type": "code",
      "source": [
        "# Slicing the matrix\n",
        "# The matrix can be sliced using the indices representing the axes. \n",
        "\n",
        "# Accessing individual elements of the matrix\n",
        "# Each element is indexed by its row and column.\n",
        "# Row, column indices start from 0\n",
        "\n",
        "# Accessing first element of the matrix\n",
        "first_element = X[0, 0]\n",
        "print(\"First element: {}\".format(first_element))\n",
        "\n",
        "# Accessing 5th row, first column of the matrix\n",
        "print(\"X[5][1]: {}\".format(X[5][1]))"
      ],
      "metadata": {
        "colab": {
          "base_uri": "https://localhost:8080/"
        },
        "id": "b37Asrd5iREy",
        "outputId": "5dad7c81-e09b-46ab-a24b-682269e4c21f"
      },
      "execution_count": 5,
      "outputs": [
        {
          "output_type": "stream",
          "name": "stdout",
          "text": [
            "First element: 0.10999999940395355\n",
            "X[5][1]: 0.8700000047683716\n"
          ]
        }
      ]
    },
    {
      "cell_type": "code",
      "source": [
        "# Accessing the rows\n",
        "# Note the each row corresponds to one training example in our case.\n",
        "# The : is shorthand to access all the elements of the selected rows\n",
        "# i.e X[0, :] is equivalent of X[0, 0:num_columns]\n",
        "row_1 = X[0, :] # First row has an index of 0\n",
        "row_2 = X[1, 0:2] # Second row has an index of 1\n",
        "print(\"Row 1: {} Shape: {}\".format(row_1, row_1.shape))\n",
        "print(\"Row 2: {} Shape: {}\".format(row_2, row_2.shape))"
      ],
      "metadata": {
        "colab": {
          "base_uri": "https://localhost:8080/"
        },
        "id": "j57lOdVCkwnG",
        "outputId": "8a1da7c8-2009-4a6c-8dea-a0814319c261"
      },
      "execution_count": 6,
      "outputs": [
        {
          "output_type": "stream",
          "name": "stdout",
          "text": [
            "Row 1: tensor([0.1100, 0.0900]) Shape: torch.Size([2])\n",
            "Row 2: tensor([0.0100, 0.0200]) Shape: torch.Size([2])\n"
          ]
        }
      ]
    },
    {
      "cell_type": "code",
      "source": [
        "# Accessing the columns\n",
        "# The columns can similarly be accessed using the second axis.\n",
        "# Note that each column corresponds to one feature i.e hardness or\n",
        "# sharpness in our case.\n",
        "column_1 = X[:, 0] # First column has an index of 0\n",
        "column_2 = X[:, 1] #Second column has an index of 1\n",
        "print(\"Column 1: {} Shape: {}\".format(column_1, column_1.shape))\n",
        "print(\"Column 2: {} Shape: {}\".format(column_2, column_2.shape))"
      ],
      "metadata": {
        "colab": {
          "base_uri": "https://localhost:8080/"
        },
        "id": "S4devyPWl1db",
        "outputId": "47561153-c68e-46fd-d94f-825319d5b1f3"
      },
      "execution_count": 7,
      "outputs": [
        {
          "output_type": "stream",
          "name": "stdout",
          "text": [
            "Column 1: tensor([0.1100, 0.0100, 0.9800, 0.1200, 0.9800, 0.8500, 0.0300, 0.5500, 0.4900,\n",
            "        0.9900, 0.0200, 0.3100, 0.5500, 0.8700, 0.6300]) Shape: torch.Size([15])\n",
            "Column 2: tensor([0.0900, 0.0200, 0.9100, 0.2100, 0.9900, 0.8700, 0.1400, 0.4500, 0.5100,\n",
            "        0.0100, 0.8900, 0.4700, 0.2900, 0.7600, 0.2400]) Shape: torch.Size([15])\n"
          ]
        }
      ]
    },
    {
      "cell_type": "code",
      "source": [
        "# Ranges of rows and columns can be specified via colon operator to slice off (extract) sub-matrices\n",
        "first_3_training_examples = X[:3, ]\n",
        "first_3_training_examples1 = X[:3, :]\n",
        "\n",
        "print(first_3_training_examples)\n",
        "print(first_3_training_examples1)"
      ],
      "metadata": {
        "colab": {
          "base_uri": "https://localhost:8080/"
        },
        "id": "Bx8VX917mXIs",
        "outputId": "5ed1a42d-e316-4713-869f-3f679ff87bb2"
      },
      "execution_count": 11,
      "outputs": [
        {
          "output_type": "stream",
          "name": "stdout",
          "text": [
            "tensor([[0.1100, 0.0900],\n",
            "        [0.0100, 0.0200],\n",
            "        [0.9800, 0.9100]])\n",
            "tensor([[0.1100, 0.0900],\n",
            "        [0.0100, 0.0200],\n",
            "        [0.9800, 0.9100]])\n"
          ]
        }
      ]
    },
    {
      "cell_type": "code",
      "source": [
        "print(\"Sharpness of 5-7 training examples is: {}\".format(X[5:8, 1]))"
      ],
      "metadata": {
        "colab": {
          "base_uri": "https://localhost:8080/"
        },
        "id": "wxJtMzsIonYw",
        "outputId": "4b0ee9cc-cdfb-48b7-d3dd-503b7e0a9d46"
      },
      "execution_count": 16,
      "outputs": [
        {
          "output_type": "stream",
          "name": "stdout",
          "text": [
            "Sharpness of 5-7 training examples is: tensor([0.8700, 0.1400, 0.4500])\n"
          ]
        }
      ]
    },
    {
      "cell_type": "code",
      "source": [
        "#All images are tensors. RGB image of height H, width W is 3-tensor of shape [3, H, W]\n",
        "I49 = np.array([[0, 8, 16, 24, 32, 40, 48, 56, 64],\n",
        "[64,72, 80, 88, 96, 104, 112, 120, 128],\n",
        "[128, 136, 144, 152, 160, 168, 176, 184, 192],\n",
        "[192, 200, 208, 216, 224, 232, 240, 248, 255]],\n",
        "dtype=np.uint8)"
      ],
      "metadata": {
        "id": "yA5Zppxs1wpo"
      },
      "execution_count": 17,
      "outputs": []
    },
    {
      "cell_type": "code",
      "source": [
        "I49"
      ],
      "metadata": {
        "colab": {
          "base_uri": "https://localhost:8080/"
        },
        "id": "rrEtpthq14aC",
        "outputId": "70d8f4a9-29e4-41b4-83a9-7f0d4c7c4716"
      },
      "execution_count": 18,
      "outputs": [
        {
          "output_type": "execute_result",
          "data": {
            "text/plain": [
              "array([[  0,   8,  16,  24,  32,  40,  48,  56,  64],\n",
              "       [ 64,  72,  80,  88,  96, 104, 112, 120, 128],\n",
              "       [128, 136, 144, 152, 160, 168, 176, 184, 192],\n",
              "       [192, 200, 208, 216, 224, 232, 240, 248, 255]], dtype=uint8)"
            ]
          },
          "metadata": {},
          "execution_count": 18
        }
      ]
    }
  ]
}