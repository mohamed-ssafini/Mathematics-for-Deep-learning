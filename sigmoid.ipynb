{
  "cells": [
    {
      "cell_type": "markdown",
      "metadata": {
        "id": "view-in-github",
        "colab_type": "text"
      },
      "source": [
        "<a href=\"https://colab.research.google.com/github/mohamed-ssafini/Mathematics-for-Deep-learning/blob/main/sigmoid.ipynb\" target=\"_parent\"><img src=\"https://colab.research.google.com/assets/colab-badge.svg\" alt=\"Open In Colab\"/></a>"
      ]
    },
    {
      "cell_type": "code",
      "execution_count": null,
      "metadata": {
        "grader_id": "anx16m990l7",
        "id": "rg_FmLTDUm3Z"
      },
      "outputs": [],
      "source": [
        "import numpy as np\n",
        "def sigmoid(x):\n",
        "    \"\"\"\n",
        "    Calculate sigmoid\n",
        "    \"\"\"\n",
        "    return 1/(1+np.exp(-x))\n",
        "def sigmoid_prime(x):\n",
        "    \"\"\"\n",
        "    # Derivative of the sigmoid function\n",
        "    \"\"\"\n",
        "    return sigmoid(x) * (1 - sigmoid(x))"
      ]
    },
    {
      "cell_type": "code",
      "source": [
        "learnrate = 0.5\n",
        "x = np.array([1, 2, 3, 4])\n",
        "y = np.array(0.5)\n",
        "\n",
        "# Initial weights\n",
        "w = np.array([0.5, -0.5, 0.3, 0.1])\n",
        "\n",
        "### Calculate one gradient descent step for each weight\n",
        "### Note: Some steps have been consolidated, so there are\n",
        "###       fewer variable names than in the above sample code\n",
        "# TODO: Calculate the node's linear combination of inputs and weights\n",
        "h = None"
      ],
      "metadata": {
        "id": "JnbpraiJkaxi"
      },
      "execution_count": null,
      "outputs": []
    },
    {
      "cell_type": "code",
      "source": [
        "# the linear combination performed by the node (h in f(h) and f'(h))\n",
        "h = np.dot(x, w)\n",
        "h"
      ],
      "metadata": {
        "id": "zWiq5tyTmpTE",
        "colab": {
          "base_uri": "https://localhost:8080/"
        },
        "outputId": "19cf1050-7998-4aba-fb0d-2a9f91f44ee3"
      },
      "execution_count": null,
      "outputs": [
        {
          "output_type": "execute_result",
          "data": {
            "text/plain": [
              "0.7999999999999999"
            ]
          },
          "metadata": {},
          "execution_count": 6
        }
      ]
    },
    {
      "cell_type": "code",
      "source": [
        "### Notebook grading\n",
        "import numpy as np\n",
        "x_test = np.array([1, 2, 3, 4])\n",
        "y_test = np.array(0.5)\n",
        "w_test = np.array([0.5, -0.5, 0.3, 0.1])\n",
        "learnrate_test = 0.5"
      ],
      "metadata": {
        "id": "eYVbF1femRA7"
      },
      "execution_count": null,
      "outputs": []
    },
    {
      "cell_type": "code",
      "source": [
        "h_answer = np.dot(x_test, w_test)\n",
        "if h == h_answer:\n",
        "    print(\"Good job!\")\n",
        "else:\n",
        "    print(\"Try again. `h` is not correct.\")"
      ],
      "metadata": {
        "id": "2hasXa2nlBTV",
        "colab": {
          "base_uri": "https://localhost:8080/"
        },
        "outputId": "37ee8c19-e802-40c1-d658-839ed87a3143"
      },
      "execution_count": null,
      "outputs": [
        {
          "output_type": "stream",
          "name": "stdout",
          "text": [
            "Good job!\n"
          ]
        }
      ]
    },
    {
      "cell_type": "code",
      "execution_count": null,
      "metadata": {
        "grader_id": "ar0y4222psk",
        "id": "duuUs6M0Um3c",
        "outputId": "3fee7c4c-7ecb-4c04-a6e4-5637b78dc536",
        "colab": {
          "base_uri": "https://localhost:8080/"
        }
      },
      "outputs": [
        {
          "output_type": "execute_result",
          "data": {
            "text/plain": [
              "0.6899744811276125"
            ]
          },
          "metadata": {},
          "execution_count": 10
        }
      ],
      "source": [
        "# TODO: Calculate output of neural network\n",
        "nn_output = sigmoid(h)\n",
        "nn_output"
      ]
    },
    {
      "cell_type": "code",
      "source": [
        "### Notebook grading\n",
        "nn_output_answer = 1/(1+np.exp(-np.dot(x_test, w_test)))\n",
        "\n",
        "if nn_output == nn_output_answer:\n",
        "    print(\"Good job!\")\n",
        "else:\n",
        "    print(\"Try again. `nn_output` is not correct.\")"
      ],
      "metadata": {
        "colab": {
          "base_uri": "https://localhost:8080/"
        },
        "id": "GSZYHil6r5eO",
        "outputId": "2811de40-9f3f-4ac3-dd97-50cdd9490abf"
      },
      "execution_count": null,
      "outputs": [
        {
          "output_type": "stream",
          "name": "stdout",
          "text": [
            "Good job!\n"
          ]
        }
      ]
    },
    {
      "cell_type": "code",
      "execution_count": 12,
      "metadata": {
        "grader_id": "1ro1h21bi61",
        "id": "uDQnmcE-Um3c",
        "outputId": "3c0a6ae7-c6fb-4b0a-eead-9d705abd2b0a",
        "colab": {
          "base_uri": "https://localhost:8080/"
        }
      },
      "outputs": [
        {
          "output_type": "stream",
          "name": "stdout",
          "text": [
            "Good job!\n"
          ]
        }
      ],
      "source": [
        "# TODO: Calculate error of neural network\n",
        "error = y - nn_output\n",
        "\n",
        "### Notebook grading\n",
        "error_answer = y_test - nn_output_answer\n",
        "\n",
        "if error == error_answer:\n",
        "    print(\"Good job!\")\n",
        "else:\n",
        "    print(\"Try again. `error` is not correct.\")"
      ]
    },
    {
      "cell_type": "code",
      "source": [
        "# output gradient (f'(h))\n",
        "output_grad = sigmoid_prime(h)\n",
        "output_grad"
      ],
      "metadata": {
        "colab": {
          "base_uri": "https://localhost:8080/"
        },
        "id": "CECBli5a13sM",
        "outputId": "fbef1a82-9168-4b02-8ee5-29d8fbef2cf0"
      },
      "execution_count": 13,
      "outputs": [
        {
          "output_type": "execute_result",
          "data": {
            "text/plain": [
              "0.2139096965202944"
            ]
          },
          "metadata": {},
          "execution_count": 13
        }
      ]
    },
    {
      "cell_type": "code",
      "execution_count": 15,
      "metadata": {
        "grader_id": "ql0e36hfb1",
        "id": "qIsz1arzUm3c",
        "outputId": "6f22ae62-2f2e-43d2-9bbb-0f0a5ef68607",
        "colab": {
          "base_uri": "https://localhost:8080/"
        }
      },
      "outputs": [
        {
          "output_type": "execute_result",
          "data": {
            "text/plain": [
              "-0.04063738360460799"
            ]
          },
          "metadata": {},
          "execution_count": 15
        }
      ],
      "source": [
        "# TODO: Calculate the error term\n",
        "#       Remember, this requires the output gradient, which we haven't\n",
        "#       specifically added a variable for.\n",
        "error_term = error * output_grad\n",
        "error_term"
      ]
    },
    {
      "cell_type": "code",
      "source": [
        "### Notebook grading\n",
        "error_term_answer = error_answer * nn_output_answer * (1 - nn_output_answer)\n",
        "\n",
        "if error_term == error_term_answer:\n",
        "    print(\"Good job!\")\n",
        "else:\n",
        "    print(\"Try again. `error_term` is not correct.\")"
      ],
      "metadata": {
        "colab": {
          "base_uri": "https://localhost:8080/"
        },
        "id": "SmPfhpH42bmS",
        "outputId": "585349c5-82a4-4e3f-cc1e-f53f6309e865"
      },
      "execution_count": 16,
      "outputs": [
        {
          "output_type": "stream",
          "name": "stdout",
          "text": [
            "Good job!\n"
          ]
        }
      ]
    },
    {
      "cell_type": "code",
      "execution_count": 18,
      "metadata": {
        "grader_id": "omb6daa1wh8",
        "scrolled": true,
        "id": "0DExsn-0Um3d",
        "outputId": "7ad8bcd8-4496-4fbb-ae8b-ebd461cd5318",
        "colab": {
          "base_uri": "https://localhost:8080/"
        }
      },
      "outputs": [
        {
          "output_type": "stream",
          "name": "stdout",
          "text": [
            "Neural Network output:\n",
            "0.6899744811276125\n",
            "Amount of Error:\n",
            "-0.1899744811276125\n",
            "Change in Weights:\n",
            "[-0.02031869 -0.04063738 -0.06095608 -0.08127477]\n"
          ]
        }
      ],
      "source": [
        "# Gradient descent step\n",
        "del_w = learnrate * error_term * x\n",
        "\n",
        "# or del_w = learnrate * error_term * x\n",
        "\n",
        "# TODO: Calculate change in weightsdel_w = np.array([0,0,0,0]) # replace with your code\n",
        "\n",
        "# Optional print\n",
        "print('Neural Network output:')\n",
        "print(nn_output)\n",
        "print('Amount of Error:')\n",
        "print(error)\n",
        "print('Change in Weights:')\n",
        "print(del_w)"
      ]
    },
    {
      "cell_type": "code",
      "source": [
        "### Notebook grading\n",
        "del_w_answer = learnrate_test * error_answer * nn_output_answer * (1 - nn_output_answer) * x_test\n",
        "\n",
        "test = del_w == del_w_answer\n",
        "if test.all():\n",
        "    print(\"Good job!\")\n",
        "else:\n",
        "    print(\"Try again. `del_w` is not correct.\")"
      ],
      "metadata": {
        "colab": {
          "base_uri": "https://localhost:8080/"
        },
        "id": "3O51WqmL4_AZ",
        "outputId": "eb74da44-2e30-4cf1-db28-db00a1b4859e"
      },
      "execution_count": 19,
      "outputs": [
        {
          "output_type": "stream",
          "name": "stdout",
          "text": [
            "Good job!\n"
          ]
        }
      ]
    }
  ],
  "metadata": {
    "kernelspec": {
      "display_name": "Python 3 (ipykernel)",
      "language": "python",
      "name": "python3"
    },
    "language_info": {
      "codemirror_mode": {
        "name": "ipython",
        "version": 3
      },
      "file_extension": ".py",
      "mimetype": "text/x-python",
      "name": "python",
      "nbconvert_exporter": "python",
      "pygments_lexer": "ipython3",
      "version": "3.10.13"
    },
    "colab": {
      "provenance": [],
      "include_colab_link": true
    }
  },
  "nbformat": 4,
  "nbformat_minor": 0
}