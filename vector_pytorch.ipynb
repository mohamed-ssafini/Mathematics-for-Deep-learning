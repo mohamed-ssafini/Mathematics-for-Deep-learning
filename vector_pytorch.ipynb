{
  "nbformat": 4,
  "nbformat_minor": 0,
  "metadata": {
    "colab": {
      "provenance": [],
      "authorship_tag": "ABX9TyPX4Xtq0qmei7jk40vfn7Mq",
      "include_colab_link": true
    },
    "kernelspec": {
      "name": "python3",
      "display_name": "Python 3"
    },
    "language_info": {
      "name": "python"
    }
  },
  "cells": [
    {
      "cell_type": "markdown",
      "metadata": {
        "id": "view-in-github",
        "colab_type": "text"
      },
      "source": [
        "<a href=\"https://colab.research.google.com/github/mohamed-ssafini/Mathematics-for-Deep-learning/blob/main/vector_pytorch.ipynb\" target=\"_parent\"><img src=\"https://colab.research.google.com/assets/colab-badge.svg\" alt=\"Open In Colab\"/></a>"
      ]
    },
    {
      "cell_type": "markdown",
      "source": [
        "**Intro to Vectors with PyTorch**"
      ],
      "metadata": {
        "id": "P6_8uwbp7eYM"
      }
    },
    {
      "cell_type": "code",
      "execution_count": 1,
      "metadata": {
        "id": "RTZDIEYn6wCd"
      },
      "outputs": [],
      "source": [
        "import numpy as np\n",
        "import sys\n",
        "import torch"
      ]
    },
    {
      "cell_type": "code",
      "source": [
        "# A torch tensor represents a multi-dimensional array (element type\n",
        "# will be float by default, here we are forcing float64, aka double).\n",
        "# A vector is a special case (1D array). It can be initialized\n",
        "# directly by specifying the values.\n",
        "v = torch.tensor([0.11, 0.01, 0.98, 0.12, 0.98, 0.85, 0.03,\n",
        "                  0.55, 0.49, 0.99, 0.02, 0.31, 0.55, 0.87,\n",
        "                  0.63], dtype=torch.float64)\n"
      ],
      "metadata": {
        "id": "n5QeKcg5864i"
      },
      "execution_count": 2,
      "outputs": []
    },
    {
      "cell_type": "code",
      "source": [
        "v"
      ],
      "metadata": {
        "colab": {
          "base_uri": "https://localhost:8080/"
        },
        "id": "W1KElLioGbgr",
        "outputId": "f37e823b-d42f-442d-9bab-f1e9d5dc8827"
      },
      "execution_count": 9,
      "outputs": [
        {
          "output_type": "execute_result",
          "data": {
            "text/plain": [
              "tensor([0.1100, 0.0100, 0.9800, 0.1200, 0.9800, 0.8500, 0.0300, 0.5500, 0.4900,\n",
              "        0.9900, 0.0200, 0.3100, 0.5500, 0.8700, 0.6300], dtype=torch.float64)"
            ]
          },
          "metadata": {},
          "execution_count": 9
        }
      ]
    },
    {
      "cell_type": "code",
      "source": [
        "# Individual elements of the vector can be accessed through\n",
        "# the square bracket operator with indices of the desired\n",
        "# element  within thosesquare brackets.\n",
        "# Index starts from zero, not one.\n",
        "first_element = v[0]\n",
        "third_element = v[2]\n",
        "print(\"first element = {} third_element = {}\".\\\n",
        "      format(first_element, third_element))\n"
      ],
      "metadata": {
        "colab": {
          "base_uri": "https://localhost:8080/"
        },
        "id": "TAOkyXh28_6g",
        "outputId": "6ae9023c-d485-4291-cad6-0e540488e8c3"
      },
      "execution_count": 3,
      "outputs": [
        {
          "output_type": "stream",
          "name": "stdout",
          "text": [
            "first element = 0.11 third_element = 0.98\n"
          ]
        }
      ]
    },
    {
      "cell_type": "code",
      "source": [
        "# Negative indices are to be counted from the end of array.\n",
        "# E.g., -1 refers to the last array element.\n",
        "#       -2 refers to the second from last element.\n",
        "last_element = v[-1]\n",
        "second_last_element = v[-2]\n",
        "print(\"last_element = {} second_last_element = {}\".\\\n",
        "      format(last_element, second_last_element))\n"
      ],
      "metadata": {
        "colab": {
          "base_uri": "https://localhost:8080/"
        },
        "id": "p5mfQ3Jp9OpN",
        "outputId": "9bb9e438-3a0c-4434-a2be-05fa59c07f89"
      },
      "execution_count": 4,
      "outputs": [
        {
          "output_type": "stream",
          "name": "stdout",
          "text": [
            "last_element = 0.63 second_last_element = 0.87\n"
          ]
        }
      ]
    },
    {
      "cell_type": "code",
      "source": [
        "# A range of elements can be sliced off a vector using the\n",
        "# colon operator\n",
        "second_to_fifth_elements = v[1:4]\n",
        "print(\"second_to_fifth_elements: {}\".format(second_to_fifth_elements))"
      ],
      "metadata": {
        "colab": {
          "base_uri": "https://localhost:8080/"
        },
        "id": "1JO-J5wd9gfF",
        "outputId": "897f6d52-df06-4831-ca83-edd1adf00187"
      },
      "execution_count": 5,
      "outputs": [
        {
          "output_type": "stream",
          "name": "stdout",
          "text": [
            "second_to_fifth_elements: tensor([0.0100, 0.9800, 0.1200], dtype=torch.float64)\n"
          ]
        }
      ]
    },
    {
      "cell_type": "code",
      "source": [
        "# If nothing is specified on the left of the arrow, it implies beginning\n",
        "# of array.\n",
        "# If nothing is specified after the  colon it implies end of array.\n",
        "first_to_third_elements = v[:2]\n",
        "last_two_elements = v[-2:]\n",
        "print(\"first_to_third_elements: {}  Last two elements: {}\".\\\n",
        "      format(first_to_third_elements, last_two_elements))"
      ],
      "metadata": {
        "id": "i0NRHXaY9gty"
      },
      "execution_count": null,
      "outputs": []
    },
    {
      "cell_type": "code",
      "source": [
        "# Size of the vector\n",
        "num_elements_in_v = len(v)\n",
        "print(\"Number of elements in v: {}\".format(num_elements_in_v))"
      ],
      "metadata": {
        "colab": {
          "base_uri": "https://localhost:8080/"
        },
        "id": "_r4COl-NAV59",
        "outputId": "6b8e2ea1-1ee0-4fdb-a50b-edf0b7871826"
      },
      "execution_count": 6,
      "outputs": [
        {
          "output_type": "stream",
          "name": "stdout",
          "text": [
            "Number of elements in v: 15\n"
          ]
        }
      ]
    },
    {
      "cell_type": "code",
      "source": [
        "# A torch tensor can also be initialized from a numpy array.\n",
        "u = np.array([0.11, 0.01, 0.98, 0.12, 0.98, 0.85, 0.03,\n",
        "              0.55, 0.49, 0.99, 0.02, 0.31, 0.55, 0.87,\n",
        "              0.63])\n",
        "u = torch.from_numpy(u)"
      ],
      "metadata": {
        "id": "6A2F4GJDAZdW"
      },
      "execution_count": 7,
      "outputs": []
    },
    {
      "cell_type": "code",
      "source": [
        "u"
      ],
      "metadata": {
        "colab": {
          "base_uri": "https://localhost:8080/"
        },
        "id": "sTww9xaiAZ2h",
        "outputId": "557a3eb3-3cea-43ef-c765-10b09111a891"
      },
      "execution_count": 8,
      "outputs": [
        {
          "output_type": "execute_result",
          "data": {
            "text/plain": [
              "tensor([0.1100, 0.0100, 0.9800, 0.1200, 0.9800, 0.8500, 0.0300, 0.5500, 0.4900,\n",
              "        0.9900, 0.0200, 0.3100, 0.5500, 0.8700, 0.6300], dtype=torch.float64)"
            ]
          },
          "metadata": {},
          "execution_count": 8
        }
      ]
    },
    {
      "cell_type": "code",
      "source": [
        "# One can add subtract tensors. Here we do diff = v - u.\n",
        "# Since v1 and u contain the same values, their difference\n",
        "# is all zeros.\n",
        "diff = v.sub(u)\n",
        "print(u)\n",
        "print(v)\n",
        "print(diff)"
      ],
      "metadata": {
        "colab": {
          "base_uri": "https://localhost:8080/"
        },
        "id": "G01JII_HF10W",
        "outputId": "97125134-b725-4196-bb29-4e9cbe5a0e02"
      },
      "execution_count": 10,
      "outputs": [
        {
          "output_type": "stream",
          "name": "stdout",
          "text": [
            "tensor([0.1100, 0.0100, 0.9800, 0.1200, 0.9800, 0.8500, 0.0300, 0.5500, 0.4900,\n",
            "        0.9900, 0.0200, 0.3100, 0.5500, 0.8700, 0.6300], dtype=torch.float64)\n",
            "tensor([0.1100, 0.0100, 0.9800, 0.1200, 0.9800, 0.8500, 0.0300, 0.5500, 0.4900,\n",
            "        0.9900, 0.0200, 0.3100, 0.5500, 0.8700, 0.6300], dtype=torch.float64)\n",
            "tensor([0., 0., 0., 0., 0., 0., 0., 0., 0., 0., 0., 0., 0., 0., 0.],\n",
            "       dtype=torch.float64)\n"
          ]
        }
      ]
    },
    {
      "cell_type": "code",
      "source": [
        "# torch tensors can be converted to numpy arrays too.\n",
        "u1 = u.numpy()"
      ],
      "metadata": {
        "id": "Tjc1oKQE7cNR"
      },
      "execution_count": 11,
      "outputs": []
    },
    {
      "cell_type": "code",
      "source": [
        "u1"
      ],
      "metadata": {
        "colab": {
          "base_uri": "https://localhost:8080/"
        },
        "id": "noeDiUENG2tO",
        "outputId": "e34e4665-bc5c-4bb6-c815-04c143c4a761"
      },
      "execution_count": 13,
      "outputs": [
        {
          "output_type": "execute_result",
          "data": {
            "text/plain": [
              "array([0.11, 0.01, 0.98, 0.12, 0.98, 0.85, 0.03, 0.55, 0.49, 0.99, 0.02,\n",
              "       0.31, 0.55, 0.87, 0.63])"
            ]
          },
          "metadata": {},
          "execution_count": 13
        }
      ]
    }
  ]
}